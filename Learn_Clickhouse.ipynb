{
 "cells": [
  {
   "cell_type": "code",
   "execution_count": null,
   "metadata": {},
   "outputs": [],
   "source": [
    "!pip install clickhouse-driver[lz4] --user"
   ]
  },
  {
   "cell_type": "code",
   "execution_count": null,
   "metadata": {},
   "outputs": [],
   "source": [
    "!pip install clickhouse2pandas --user"
   ]
  },
  {
   "cell_type": "code",
   "execution_count": 10,
   "metadata": {
    "collapsed": true
   },
   "outputs": [],
   "source": [
    "!pgrep clickhouse-server"
   ]
  },
  {
   "cell_type": "code",
   "execution_count": 53,
   "metadata": {},
   "outputs": [
    {
     "data": {
      "text/plain": [
       "[]"
      ]
     },
     "execution_count": 53,
     "metadata": {},
     "output_type": "execute_result"
    }
   ],
   "source": [
    "from clickhouse_driver import Client\n",
    "\n",
    "client = Client(\"dev-usr-0017\")\n",
    "client.execute('SHOW TABLES')"
   ]
  },
  {
   "cell_type": "code",
   "execution_count": 54,
   "metadata": {},
   "outputs": [
    {
     "data": {
      "text/plain": [
       "[(202005, '20.4.2.9')]"
      ]
     },
     "execution_count": 54,
     "metadata": {},
     "output_type": "execute_result"
    }
   ],
   "source": [
    "result = client.execute(\"SELECT toYYYYMM(now()), version()\")\n",
    "result"
   ]
  },
  {
   "cell_type": "code",
   "execution_count": 55,
   "metadata": {},
   "outputs": [
    {
     "data": {
      "text/plain": [
       "{'Adult': False,\n",
       " 'Budget': 220000000,\n",
       " 'Genres': ['Action', 'Adventure', 'Science Fiction'],\n",
       " 'Id': 24428,\n",
       " 'OriginalLanguage': 'en',\n",
       " 'ProductionCompanies': ['Paramount Pictures', 'Marvel Studios'],\n",
       " 'ReleaseDate': datetime.datetime(2012, 5, 4, 0, 0),\n",
       " 'Revenue': 1518594910,\n",
       " 'Runtime': 143,\n",
       " 'Tagline': 'Some assembly required.',\n",
       " 'Title': 'The Avengers',\n",
       " 'VoteAverage': 7.2,\n",
       " 'VoteCount': 6535}"
      ]
     },
     "execution_count": 55,
     "metadata": {},
     "output_type": "execute_result"
    }
   ],
   "source": [
    "import pickle\n",
    "from datetime import datetime\n",
    "\n",
    "with open(\"/home/makilins/Downloads/movies.p\",\"rb\") as tmdb_file:\n",
    "    data = pickle.load(tmdb_file)\n",
    "    movs = data\n",
    "    json_docs = []\n",
    "    for mov in movs:\n",
    "        mov_short = {}\n",
    "        mov_short[\"Id\"] = mov[\"id\"]\n",
    "        mov_short[\"Adult\"] = mov[\"adult\"]\n",
    "        mov_short[\"OriginalLanguage\"] = mov[\"original_language\"]\n",
    "        mov_short[\"Title\"] = mov[\"title\"]\n",
    "        #mov_short[\"overview\"] = mov[\"overview\"]\n",
    "        mov_short[\"Tagline\"] = mov[\"tagline\"]\n",
    "        mov_short[\"ReleaseDate\"] = datetime.strptime(mov[\"release_date\"], '%Y-%m-%d')\n",
    "        mov_short[\"Budget\"] = mov[\"budget\"]\n",
    "        mov_short[\"Revenue\"] = mov[\"revenue\"]\n",
    "        mov_short[\"VoteCount\"] = mov[\"vote_count\"]\n",
    "        mov_short[\"VoteAverage\"] = mov[\"vote_average\"]\n",
    "        mov_short[\"Runtime\"] = mov[\"runtime\"]\n",
    "        mov_short[\"Genres\"] = [genre[\"name\"] for genre in mov[\"genres\"]]\n",
    "        mov_short[\"ProductionCompanies\"] = [prod_co[\"name\"] for prod_co in mov[\"production_companies\"]] \n",
    "        json_docs.append(mov_short)\n",
    "        \n",
    "json_docs[0]"
   ]
  },
  {
   "cell_type": "code",
   "execution_count": 18,
   "metadata": {},
   "outputs": [
    {
     "data": {
      "text/plain": [
       "400"
      ]
     },
     "execution_count": 18,
     "metadata": {},
     "output_type": "execute_result"
    }
   ],
   "source": [
    "len(json_docs)"
   ]
  },
  {
   "cell_type": "code",
   "execution_count": 56,
   "metadata": {},
   "outputs": [
    {
     "data": {
      "text/plain": [
       "[]"
      ]
     },
     "execution_count": 56,
     "metadata": {},
     "output_type": "execute_result"
    }
   ],
   "source": [
    "client.execute(\"CREATE DATABASE IF NOT EXISTS test\")"
   ]
  },
  {
   "cell_type": "code",
   "execution_count": 57,
   "metadata": {},
   "outputs": [
    {
     "data": {
      "text/plain": [
       "[]"
      ]
     },
     "execution_count": 57,
     "metadata": {},
     "output_type": "execute_result"
    }
   ],
   "source": [
    "client.execute(\"DROP TABLE IF EXISTS test.movies\")"
   ]
  },
  {
   "cell_type": "code",
   "execution_count": 58,
   "metadata": {},
   "outputs": [
    {
     "data": {
      "text/plain": [
       "[]"
      ]
     },
     "execution_count": 58,
     "metadata": {},
     "output_type": "execute_result"
    }
   ],
   "source": [
    "create_table_query = \"\"\"\n",
    "CREATE TABLE test.movies\n",
    "(\n",
    "Adult UInt8,\n",
    "Budget UInt64,\n",
    "Genres Array(String),\n",
    "Id UInt32,\n",
    "OriginalLanguage String,\n",
    "ProductionCompanies Array(String),\n",
    "ReleaseDate Date,\n",
    "Revenue UInt64,\n",
    "Runtime Int16,\n",
    "Tagline String,\n",
    "Title String,\n",
    "VoteAverage Float32, \n",
    "VoteCount UInt16\n",
    ")\n",
    "ENGINE = MergeTree()\n",
    "PARTITION BY toYear(ReleaseDate)\n",
    "ORDER BY (Id, ReleaseDate)\n",
    "\"\"\"\n",
    "client.execute(create_table_query)"
   ]
  },
  {
   "cell_type": "code",
   "execution_count": 59,
   "metadata": {},
   "outputs": [
    {
     "data": {
      "text/plain": [
       "[('movies',)]"
      ]
     },
     "execution_count": 59,
     "metadata": {},
     "output_type": "execute_result"
    }
   ],
   "source": [
    "client.execute('SHOW TABLES IN test')"
   ]
  },
  {
   "cell_type": "code",
   "execution_count": 60,
   "metadata": {},
   "outputs": [
    {
     "data": {
      "text/plain": [
       "400"
      ]
     },
     "execution_count": 60,
     "metadata": {},
     "output_type": "execute_result"
    }
   ],
   "source": [
    "insert_query = \"\"\"\n",
    "INSERT INTO test.movies(\n",
    "Adult,\n",
    "Budget,\n",
    "Genres,\n",
    "Id,\n",
    "OriginalLanguage,\n",
    "ProductionCompanies,\n",
    "ReleaseDate,\n",
    "Revenue,\n",
    "Runtime,\n",
    "Tagline,\n",
    "Title,\n",
    "VoteAverage, \n",
    "VoteCount) VALUES\n",
    "\"\"\"\n",
    "\n",
    "client.execute(insert_query, json_docs)"
   ]
  },
  {
   "cell_type": "code",
   "execution_count": 72,
   "metadata": {},
   "outputs": [
    {
     "data": {
      "text/plain": [
       "[('GRANT ALTER, CREATE, DROP, INSERT, INTROSPECTION, KILL QUERY, OPTIMIZE, SELECT, SHOW, SOURCES, SYSTEM, TRUNCATE, dictGet ON *.* TO default',)]"
      ]
     },
     "execution_count": 72,
     "metadata": {},
     "output_type": "execute_result"
    }
   ],
   "source": [
    "client.execute(\"SHOW GRANTS\")"
   ]
  },
  {
   "cell_type": "code",
   "execution_count": 74,
   "metadata": {},
   "outputs": [
    {
     "name": "stdout",
     "output_type": "stream",
     "text": [
      "\n"
     ]
    },
    {
     "data": {
      "text/html": [
       "<div>\n",
       "<style>\n",
       "    .dataframe thead tr:only-child th {\n",
       "        text-align: right;\n",
       "    }\n",
       "\n",
       "    .dataframe thead th {\n",
       "        text-align: left;\n",
       "    }\n",
       "\n",
       "    .dataframe tbody tr th {\n",
       "        vertical-align: top;\n",
       "    }\n",
       "</style>\n",
       "<table border=\"1\" class=\"dataframe\">\n",
       "  <thead>\n",
       "    <tr style=\"text-align: right;\">\n",
       "      <th></th>\n",
       "      <th>Adult</th>\n",
       "      <th>Budget</th>\n",
       "      <th>Genres</th>\n",
       "      <th>Id</th>\n",
       "      <th>OriginalLanguage</th>\n",
       "      <th>ProductionCompanies</th>\n",
       "      <th>ReleaseDate</th>\n",
       "      <th>Revenue</th>\n",
       "      <th>Runtime</th>\n",
       "      <th>Tagline</th>\n",
       "      <th>Title</th>\n",
       "      <th>VoteAverage</th>\n",
       "      <th>VoteCount</th>\n",
       "    </tr>\n",
       "  </thead>\n",
       "  <tbody>\n",
       "    <tr>\n",
       "      <th>0</th>\n",
       "      <td>0</td>\n",
       "      <td>10500000</td>\n",
       "      <td>[Adventure, Mystery, Science Fiction]</td>\n",
       "      <td>62</td>\n",
       "      <td>en</td>\n",
       "      <td>[Metro-Goldwyn-Mayer (MGM), Stanley Kubrick Pr...</td>\n",
       "      <td>0000-00-00</td>\n",
       "      <td>56715371</td>\n",
       "      <td>149</td>\n",
       "      <td>An epic drama of adventure and exploration</td>\n",
       "      <td>2001: A Space Odyssey</td>\n",
       "      <td>7.4</td>\n",
       "      <td>764</td>\n",
       "    </tr>\n",
       "    <tr>\n",
       "      <th>1</th>\n",
       "      <td>0</td>\n",
       "      <td>1200000</td>\n",
       "      <td>[Western]</td>\n",
       "      <td>429</td>\n",
       "      <td>it</td>\n",
       "      <td>[Constantin Film, United Artists, 20th Century...</td>\n",
       "      <td>0000-00-00</td>\n",
       "      <td>6000000</td>\n",
       "      <td>161</td>\n",
       "      <td>For three men the Civil War wasn't hell. It wa...</td>\n",
       "      <td>The Good, the Bad and the Ugly</td>\n",
       "      <td>7.6</td>\n",
       "      <td>848</td>\n",
       "    </tr>\n",
       "    <tr>\n",
       "      <th>2</th>\n",
       "      <td>0</td>\n",
       "      <td>2200000</td>\n",
       "      <td>[Drama]</td>\n",
       "      <td>185</td>\n",
       "      <td>en</td>\n",
       "      <td>[Hawk Films, Warner Bros.]</td>\n",
       "      <td>1971-12-18</td>\n",
       "      <td>26589000</td>\n",
       "      <td>136</td>\n",
       "      <td>Being the adventures of a young man whose prin...</td>\n",
       "      <td>A Clockwork Orange</td>\n",
       "      <td>7.3</td>\n",
       "      <td>770</td>\n",
       "    </tr>\n",
       "  </tbody>\n",
       "</table>\n",
       "</div>"
      ],
      "text/plain": [
       "   Adult    Budget                                 Genres   Id  \\\n",
       "0      0  10500000  [Adventure, Mystery, Science Fiction]   62   \n",
       "1      0   1200000                              [Western]  429   \n",
       "2      0   2200000                                [Drama]  185   \n",
       "\n",
       "  OriginalLanguage                                ProductionCompanies  \\\n",
       "0               en  [Metro-Goldwyn-Mayer (MGM), Stanley Kubrick Pr...   \n",
       "1               it  [Constantin Film, United Artists, 20th Century...   \n",
       "2               en                         [Hawk Films, Warner Bros.]   \n",
       "\n",
       "  ReleaseDate   Revenue  Runtime  \\\n",
       "0  0000-00-00  56715371      149   \n",
       "1  0000-00-00   6000000      161   \n",
       "2  1971-12-18  26589000      136   \n",
       "\n",
       "                                             Tagline  \\\n",
       "0         An epic drama of adventure and exploration   \n",
       "1  For three men the Civil War wasn't hell. It wa...   \n",
       "2  Being the adventures of a young man whose prin...   \n",
       "\n",
       "                            Title  VoteAverage  VoteCount  \n",
       "0           2001: A Space Odyssey          7.4        764  \n",
       "1  The Good, the Bad and the Ugly          7.6        848  \n",
       "2              A Clockwork Orange          7.3        770  "
      ]
     },
     "execution_count": 74,
     "metadata": {},
     "output_type": "execute_result"
    }
   ],
   "source": [
    "import clickhouse2pandas as ch2pd\n",
    "\n",
    "connection_url = 'http://default:@dev-usr-0017:8123'\n",
    "\n",
    "query = 'SELECT * FROM test.movies LIMIT 3'\n",
    "\n",
    "df = ch2pd.select(connection_url, query)\n",
    "df"
   ]
  },
  {
   "cell_type": "code",
   "execution_count": 84,
   "metadata": {},
   "outputs": [
    {
     "data": {
      "text/plain": [
       "[]"
      ]
     },
     "execution_count": 84,
     "metadata": {},
     "output_type": "execute_result"
    }
   ],
   "source": [
    "client.execute(\"DROP VIEW test.movies_agg\")"
   ]
  },
  {
   "cell_type": "code",
   "execution_count": 85,
   "metadata": {},
   "outputs": [
    {
     "data": {
      "text/plain": [
       "[]"
      ]
     },
     "execution_count": 85,
     "metadata": {},
     "output_type": "execute_result"
    }
   ],
   "source": [
    "aggregation_query = \"\"\"\n",
    "CREATE MATERIALIZED VIEW test.movies_agg\n",
    "ENGINE = AggregatingMergeTree() PARTITION BY ReleaseYear ORDER BY (ReleaseYear, OriginalLanguage)\n",
    "POPULATE\n",
    "AS SELECT \n",
    "    toYear(ReleaseDate) as ReleaseYear,\n",
    "    OriginalLanguage,\n",
    "    sumState(VoteCount) as VoteCount,\n",
    "    uniqState(Id) as DistinctCount,\n",
    "    avgState(VoteAverage) as VoteAverage\n",
    "FROM test.movies\n",
    "GROUP BY toYear(ReleaseDate), OriginalLanguage\n",
    "\"\"\"\n",
    "\n",
    "client.execute(aggregation_query)"
   ]
  },
  {
   "cell_type": "code",
   "execution_count": 88,
   "metadata": {},
   "outputs": [
    {
     "name": "stdout",
     "output_type": "stream",
     "text": [
      "\n"
     ]
    },
    {
     "data": {
      "text/html": [
       "<div>\n",
       "<style>\n",
       "    .dataframe thead tr:only-child th {\n",
       "        text-align: right;\n",
       "    }\n",
       "\n",
       "    .dataframe thead th {\n",
       "        text-align: left;\n",
       "    }\n",
       "\n",
       "    .dataframe tbody tr th {\n",
       "        vertical-align: top;\n",
       "    }\n",
       "</style>\n",
       "<table border=\"1\" class=\"dataframe\">\n",
       "  <thead>\n",
       "    <tr style=\"text-align: right;\">\n",
       "      <th></th>\n",
       "      <th>ReleaseYear</th>\n",
       "      <th>VoteCount</th>\n",
       "      <th>DistinctCount</th>\n",
       "      <th>VoteAverage</th>\n",
       "    </tr>\n",
       "  </thead>\n",
       "  <tbody>\n",
       "    <tr>\n",
       "      <th>0</th>\n",
       "      <td>1970</td>\n",
       "      <td>1612</td>\n",
       "      <td>2</td>\n",
       "      <td>7.5</td>\n",
       "    </tr>\n",
       "    <tr>\n",
       "      <th>1</th>\n",
       "      <td>1971</td>\n",
       "      <td>770</td>\n",
       "      <td>1</td>\n",
       "      <td>7.3</td>\n",
       "    </tr>\n",
       "    <tr>\n",
       "      <th>2</th>\n",
       "      <td>1972</td>\n",
       "      <td>2280</td>\n",
       "      <td>1</td>\n",
       "      <td>8.1</td>\n",
       "    </tr>\n",
       "    <tr>\n",
       "      <th>3</th>\n",
       "      <td>1974</td>\n",
       "      <td>1167</td>\n",
       "      <td>1</td>\n",
       "      <td>8.0</td>\n",
       "    </tr>\n",
       "    <tr>\n",
       "      <th>4</th>\n",
       "      <td>1975</td>\n",
       "      <td>730</td>\n",
       "      <td>1</td>\n",
       "      <td>7.7</td>\n",
       "    </tr>\n",
       "  </tbody>\n",
       "</table>\n",
       "</div>"
      ],
      "text/plain": [
       "   ReleaseYear  VoteCount  DistinctCount  VoteAverage\n",
       "0         1970       1612              2          7.5\n",
       "1         1971        770              1          7.3\n",
       "2         1972       2280              1          8.1\n",
       "3         1974       1167              1          8.0\n",
       "4         1975        730              1          7.7"
      ]
     },
     "execution_count": 88,
     "metadata": {},
     "output_type": "execute_result"
    }
   ],
   "source": [
    "query = \"\"\"\n",
    "SELECT ReleaseYear,\n",
    "    sumMerge(VoteCount) as VoteCount,\n",
    "    uniqMerge(DistinctCount) as DistinctCount,\n",
    "    avgMerge(VoteAverage) as VoteAverage\n",
    "    \n",
    "FROM test.movies_agg\n",
    "GROUP BY \n",
    "    ReleaseYear\n",
    "ORDER BY \n",
    "    ReleaseYear\n",
    "LIMIT 5\n",
    "\"\"\"\n",
    "\n",
    "df = ch2pd.select(connection_url, query)\n",
    "df"
   ]
  },
  {
   "cell_type": "code",
   "execution_count": 90,
   "metadata": {},
   "outputs": [
    {
     "name": "stdout",
     "output_type": "stream",
     "text": [
      "\n"
     ]
    },
    {
     "data": {
      "text/html": [
       "<div>\n",
       "<style>\n",
       "    .dataframe thead tr:only-child th {\n",
       "        text-align: right;\n",
       "    }\n",
       "\n",
       "    .dataframe thead th {\n",
       "        text-align: left;\n",
       "    }\n",
       "\n",
       "    .dataframe tbody tr th {\n",
       "        vertical-align: top;\n",
       "    }\n",
       "</style>\n",
       "<table border=\"1\" class=\"dataframe\">\n",
       "  <thead>\n",
       "    <tr style=\"text-align: right;\">\n",
       "      <th></th>\n",
       "      <th>ReleaseYear</th>\n",
       "      <th>VoteCount</th>\n",
       "      <th>DistinctCount</th>\n",
       "      <th>VoteAverage</th>\n",
       "    </tr>\n",
       "  </thead>\n",
       "  <tbody>\n",
       "    <tr>\n",
       "      <th>0</th>\n",
       "      <td>1970</td>\n",
       "      <td>764</td>\n",
       "      <td>1</td>\n",
       "      <td>7.4</td>\n",
       "    </tr>\n",
       "    <tr>\n",
       "      <th>1</th>\n",
       "      <td>1971</td>\n",
       "      <td>770</td>\n",
       "      <td>1</td>\n",
       "      <td>7.3</td>\n",
       "    </tr>\n",
       "    <tr>\n",
       "      <th>2</th>\n",
       "      <td>1972</td>\n",
       "      <td>2280</td>\n",
       "      <td>1</td>\n",
       "      <td>8.1</td>\n",
       "    </tr>\n",
       "    <tr>\n",
       "      <th>3</th>\n",
       "      <td>1974</td>\n",
       "      <td>1167</td>\n",
       "      <td>1</td>\n",
       "      <td>8.0</td>\n",
       "    </tr>\n",
       "    <tr>\n",
       "      <th>4</th>\n",
       "      <td>1975</td>\n",
       "      <td>730</td>\n",
       "      <td>1</td>\n",
       "      <td>7.7</td>\n",
       "    </tr>\n",
       "  </tbody>\n",
       "</table>\n",
       "</div>"
      ],
      "text/plain": [
       "   ReleaseYear  VoteCount  DistinctCount  VoteAverage\n",
       "0         1970        764              1          7.4\n",
       "1         1971        770              1          7.3\n",
       "2         1972       2280              1          8.1\n",
       "3         1974       1167              1          8.0\n",
       "4         1975        730              1          7.7"
      ]
     },
     "execution_count": 90,
     "metadata": {},
     "output_type": "execute_result"
    }
   ],
   "source": [
    "query = \"\"\"\n",
    "SELECT ReleaseYear,\n",
    "    sumMerge(VoteCount) as VoteCount,\n",
    "    uniqMerge(DistinctCount) as DistinctCount,\n",
    "    avgMerge(VoteAverage) as VoteAverage\n",
    "    \n",
    "FROM test.movies_agg\n",
    "WHERE \n",
    "    OriginalLanguage = 'en'\n",
    "GROUP BY \n",
    "    ReleaseYear\n",
    "ORDER BY \n",
    "    ReleaseYear\n",
    "LIMIT 5\n",
    "\"\"\"\n",
    "\n",
    "df = ch2pd.select(connection_url, query)\n",
    "df"
   ]
  },
  {
   "cell_type": "code",
   "execution_count": 92,
   "metadata": {},
   "outputs": [
    {
     "data": {
      "text/plain": [
       "[]"
      ]
     },
     "execution_count": 92,
     "metadata": {},
     "output_type": "execute_result"
    }
   ],
   "source": [
    "# SummingMergeTree - выполняет суммирование в фоновом режиме в реальном времени при вставке\n",
    "\n",
    "sum_create_query = \"\"\"\n",
    "CREATE TABLE test.movies_sum\n",
    "(\n",
    "    Adult UInt8,\n",
    "    OriginalLanguage String,\n",
    "    Budget UInt64,\n",
    "    Revenue UInt64,\n",
    "    VoteCount UInt16       \n",
    ")\n",
    "ENGINE = SummingMergeTree()\n",
    "ORDER BY (Adult, OriginalLanguage)\n",
    "\"\"\"\n",
    "\n",
    "client.execute(sum_create_query)"
   ]
  },
  {
   "cell_type": "code",
   "execution_count": 96,
   "metadata": {},
   "outputs": [
    {
     "data": {
      "text/plain": [
       "{'Adult': False,\n",
       " 'Budget': 220000000,\n",
       " 'OriginalLanguage': 'en',\n",
       " 'Revenue': 1518594910,\n",
       " 'VoteCount': 6535}"
      ]
     },
     "execution_count": 96,
     "metadata": {},
     "output_type": "execute_result"
    }
   ],
   "source": [
    "import pickle\n",
    "from datetime import datetime\n",
    "\n",
    "with open(\"/home/makilins/Downloads/movies.p\",\"rb\") as tmdb_file:\n",
    "    data = pickle.load(tmdb_file)\n",
    "    movs = data\n",
    "    json_docs = []\n",
    "    for mov in movs:\n",
    "        mov_short = {}\n",
    "        mov_short[\"Adult\"] = mov[\"adult\"]\n",
    "        mov_short[\"OriginalLanguage\"] = mov[\"original_language\"]\n",
    "        mov_short[\"Budget\"] = mov[\"budget\"]\n",
    "        mov_short[\"Revenue\"] = mov[\"revenue\"]\n",
    "        mov_short[\"VoteCount\"] = mov[\"vote_count\"]\n",
    "        json_docs.append(mov_short)\n",
    "        \n",
    "json_docs[0]"
   ]
  },
  {
   "cell_type": "code",
   "execution_count": 100,
   "metadata": {},
   "outputs": [
    {
     "data": {
      "text/plain": [
       "400"
      ]
     },
     "execution_count": 100,
     "metadata": {},
     "output_type": "execute_result"
    }
   ],
   "source": [
    "sum_insert = \"\"\"\n",
    "INSERT INTO test.movies_sum VALUES\n",
    "\"\"\"\n",
    "\n",
    "client.execute(sum_insert, json_docs)"
   ]
  },
  {
   "cell_type": "code",
   "execution_count": 104,
   "metadata": {},
   "outputs": [
    {
     "data": {
      "text/plain": [
       "[]"
      ]
     },
     "execution_count": 104,
     "metadata": {},
     "output_type": "execute_result"
    }
   ],
   "source": [
    "client.execute(\"OPTIMIZE TABLE test.movies_sum\") # Принудительно схлопываем данные"
   ]
  },
  {
   "cell_type": "code",
   "execution_count": 107,
   "metadata": {},
   "outputs": [
    {
     "name": "stdout",
     "output_type": "stream",
     "text": [
      "\n"
     ]
    },
    {
     "data": {
      "text/html": [
       "<div>\n",
       "<style>\n",
       "    .dataframe thead tr:only-child th {\n",
       "        text-align: right;\n",
       "    }\n",
       "\n",
       "    .dataframe thead th {\n",
       "        text-align: left;\n",
       "    }\n",
       "\n",
       "    .dataframe tbody tr th {\n",
       "        vertical-align: top;\n",
       "    }\n",
       "</style>\n",
       "<table border=\"1\" class=\"dataframe\">\n",
       "  <thead>\n",
       "    <tr style=\"text-align: right;\">\n",
       "      <th></th>\n",
       "      <th>Adult</th>\n",
       "      <th>OriginalLanguage</th>\n",
       "      <th>Budget</th>\n",
       "      <th>Revenue</th>\n",
       "      <th>VoteCount</th>\n",
       "    </tr>\n",
       "  </thead>\n",
       "  <tbody>\n",
       "    <tr>\n",
       "      <th>0</th>\n",
       "      <td>0</td>\n",
       "      <td>en</td>\n",
       "      <td>36609800000</td>\n",
       "      <td>149018677002</td>\n",
       "      <td>13188</td>\n",
       "    </tr>\n",
       "    <tr>\n",
       "      <th>1</th>\n",
       "      <td>0</td>\n",
       "      <td>es</td>\n",
       "      <td>19000000</td>\n",
       "      <td>83258226</td>\n",
       "      <td>724</td>\n",
       "    </tr>\n",
       "    <tr>\n",
       "      <th>2</th>\n",
       "      <td>0</td>\n",
       "      <td>fr</td>\n",
       "      <td>235400000</td>\n",
       "      <td>1769512841</td>\n",
       "      <td>5113</td>\n",
       "    </tr>\n",
       "    <tr>\n",
       "      <th>3</th>\n",
       "      <td>0</td>\n",
       "      <td>it</td>\n",
       "      <td>1200000</td>\n",
       "      <td>235400000</td>\n",
       "      <td>1644</td>\n",
       "    </tr>\n",
       "    <tr>\n",
       "      <th>4</th>\n",
       "      <td>0</td>\n",
       "      <td>ja</td>\n",
       "      <td>15000000</td>\n",
       "      <td>274925095</td>\n",
       "      <td>1072</td>\n",
       "    </tr>\n",
       "  </tbody>\n",
       "</table>\n",
       "</div>"
      ],
      "text/plain": [
       "   Adult OriginalLanguage       Budget       Revenue  VoteCount\n",
       "0      0               en  36609800000  149018677002      13188\n",
       "1      0               es     19000000      83258226        724\n",
       "2      0               fr    235400000    1769512841       5113\n",
       "3      0               it      1200000     235400000       1644\n",
       "4      0               ja     15000000     274925095       1072"
      ]
     },
     "execution_count": 107,
     "metadata": {},
     "output_type": "execute_result"
    }
   ],
   "source": [
    "# FINAL - принудительная агрегация\n",
    "\n",
    "query = \"\"\"\n",
    "SELECT *\n",
    "FROM test.movies_sum FINAL\n",
    "LIMIT 5\n",
    "\"\"\"\n",
    "\n",
    "df = ch2pd.select(connection_url, query)\n",
    "df"
   ]
  },
  {
   "cell_type": "code",
   "execution_count": 102,
   "metadata": {},
   "outputs": [
    {
     "name": "stdout",
     "output_type": "stream",
     "text": [
      "\n"
     ]
    },
    {
     "data": {
      "text/html": [
       "<div>\n",
       "<style>\n",
       "    .dataframe thead tr:only-child th {\n",
       "        text-align: right;\n",
       "    }\n",
       "\n",
       "    .dataframe thead th {\n",
       "        text-align: left;\n",
       "    }\n",
       "\n",
       "    .dataframe tbody tr th {\n",
       "        vertical-align: top;\n",
       "    }\n",
       "</style>\n",
       "<table border=\"1\" class=\"dataframe\">\n",
       "  <thead>\n",
       "    <tr style=\"text-align: right;\">\n",
       "      <th></th>\n",
       "      <th>Adult</th>\n",
       "      <th>OriginalLanguage</th>\n",
       "      <th>Budget</th>\n",
       "      <th>Revenue</th>\n",
       "      <th>VoteCount</th>\n",
       "    </tr>\n",
       "  </thead>\n",
       "  <tbody>\n",
       "    <tr>\n",
       "      <th>0</th>\n",
       "      <td>0</td>\n",
       "      <td>en</td>\n",
       "      <td>36609800000</td>\n",
       "      <td>149018677002</td>\n",
       "      <td>537476</td>\n",
       "    </tr>\n",
       "    <tr>\n",
       "      <th>1</th>\n",
       "      <td>0</td>\n",
       "      <td>es</td>\n",
       "      <td>19000000</td>\n",
       "      <td>83258226</td>\n",
       "      <td>724</td>\n",
       "    </tr>\n",
       "    <tr>\n",
       "      <th>2</th>\n",
       "      <td>0</td>\n",
       "      <td>fr</td>\n",
       "      <td>235400000</td>\n",
       "      <td>1769512841</td>\n",
       "      <td>5113</td>\n",
       "    </tr>\n",
       "    <tr>\n",
       "      <th>3</th>\n",
       "      <td>0</td>\n",
       "      <td>it</td>\n",
       "      <td>1200000</td>\n",
       "      <td>235400000</td>\n",
       "      <td>1644</td>\n",
       "    </tr>\n",
       "    <tr>\n",
       "      <th>4</th>\n",
       "      <td>0</td>\n",
       "      <td>ja</td>\n",
       "      <td>15000000</td>\n",
       "      <td>274925095</td>\n",
       "      <td>1072</td>\n",
       "    </tr>\n",
       "  </tbody>\n",
       "</table>\n",
       "</div>"
      ],
      "text/plain": [
       "   Adult OriginalLanguage       Budget       Revenue  VoteCount\n",
       "0      0               en  36609800000  149018677002     537476\n",
       "1      0               es     19000000      83258226        724\n",
       "2      0               fr    235400000    1769512841       5113\n",
       "3      0               it      1200000     235400000       1644\n",
       "4      0               ja     15000000     274925095       1072"
      ]
     },
     "execution_count": 102,
     "metadata": {},
     "output_type": "execute_result"
    }
   ],
   "source": [
    "query = \"\"\"\n",
    "SELECT \n",
    "    Adult,\n",
    "    OriginalLanguage,\n",
    "    sum(Budget) as Budget,\n",
    "    sum(Revenue) as Revenue,\n",
    "    sum(VoteCount) as VoteCount\n",
    "FROM test.movies_sum\n",
    "GROUP BY \n",
    "    Adult,\n",
    "    OriginalLanguage\n",
    "ORDER BY\n",
    "    Adult,\n",
    "    OriginalLanguage\n",
    "LIMIT 5\n",
    "\"\"\"\n",
    "\n",
    "df = ch2pd.select(connection_url, query)\n",
    "df"
   ]
  },
  {
   "cell_type": "code",
   "execution_count": 112,
   "metadata": {},
   "outputs": [
    {
     "data": {
      "text/plain": [
       "[]"
      ]
     },
     "execution_count": 112,
     "metadata": {},
     "output_type": "execute_result"
    }
   ],
   "source": [
    "create_collapsing_query = \"\"\"\n",
    "CREATE TABLE test.movies_collapsing\n",
    "(\n",
    "Adult UInt8,\n",
    "Budget UInt64,\n",
    "Id UInt32,\n",
    "OriginalLanguage String,\n",
    "Revenue UInt64,\n",
    "VoteCount UInt16,\n",
    "Sign Int8\n",
    ")\n",
    "ENGINE = CollapsingMergeTree(Sign)\n",
    "ORDER BY Id\n",
    "\"\"\"\n",
    "client.execute(create_collapsing_query)"
   ]
  },
  {
   "cell_type": "code",
   "execution_count": 113,
   "metadata": {},
   "outputs": [
    {
     "data": {
      "text/plain": [
       "{'Adult': False,\n",
       " 'Budget': 220000000,\n",
       " 'Id': 24428,\n",
       " 'OriginalLanguage': 'en',\n",
       " 'Revenue': 1518594910,\n",
       " 'Sign': 1,\n",
       " 'VoteCount': 6535}"
      ]
     },
     "execution_count": 113,
     "metadata": {},
     "output_type": "execute_result"
    }
   ],
   "source": [
    "import pickle\n",
    "from datetime import datetime\n",
    "\n",
    "with open(\"/home/makilins/Downloads/movies.p\",\"rb\") as tmdb_file:\n",
    "    data = pickle.load(tmdb_file)\n",
    "    movs = data[0:10]\n",
    "    json_docs = []\n",
    "    for mov in movs:\n",
    "        mov_short = {}\n",
    "        mov_short[\"Id\"] = mov[\"id\"]\n",
    "        mov_short[\"Adult\"] = mov[\"adult\"]\n",
    "        mov_short[\"OriginalLanguage\"] = mov[\"original_language\"]\n",
    "        mov_short[\"Budget\"] = mov[\"budget\"]\n",
    "        mov_short[\"Revenue\"] = mov[\"revenue\"]\n",
    "        mov_short[\"VoteCount\"] = mov[\"vote_count\"]\n",
    "        mov_short[\"Sign\"] = 1\n",
    "        json_docs.append(mov_short)\n",
    "        \n",
    "json_docs[0]"
   ]
  },
  {
   "cell_type": "code",
   "execution_count": 114,
   "metadata": {},
   "outputs": [
    {
     "data": {
      "text/plain": [
       "10"
      ]
     },
     "execution_count": 114,
     "metadata": {},
     "output_type": "execute_result"
    }
   ],
   "source": [
    "sum_insert = \"\"\"\n",
    "INSERT INTO test.movies_collapsing VALUES\n",
    "\"\"\"\n",
    "\n",
    "client.execute(sum_insert, json_docs)"
   ]
  },
  {
   "cell_type": "code",
   "execution_count": 115,
   "metadata": {},
   "outputs": [
    {
     "name": "stdout",
     "output_type": "stream",
     "text": [
      "\n"
     ]
    },
    {
     "data": {
      "text/html": [
       "<div>\n",
       "<style>\n",
       "    .dataframe thead tr:only-child th {\n",
       "        text-align: right;\n",
       "    }\n",
       "\n",
       "    .dataframe thead th {\n",
       "        text-align: left;\n",
       "    }\n",
       "\n",
       "    .dataframe tbody tr th {\n",
       "        vertical-align: top;\n",
       "    }\n",
       "</style>\n",
       "<table border=\"1\" class=\"dataframe\">\n",
       "  <thead>\n",
       "    <tr style=\"text-align: right;\">\n",
       "      <th></th>\n",
       "      <th>Adult</th>\n",
       "      <th>Budget</th>\n",
       "      <th>Id</th>\n",
       "      <th>OriginalLanguage</th>\n",
       "      <th>Revenue</th>\n",
       "      <th>VoteCount</th>\n",
       "      <th>Sign</th>\n",
       "    </tr>\n",
       "  </thead>\n",
       "  <tbody>\n",
       "    <tr>\n",
       "      <th>0</th>\n",
       "      <td>0</td>\n",
       "      <td>185000000</td>\n",
       "      <td>155</td>\n",
       "      <td>en</td>\n",
       "      <td>1001921825</td>\n",
       "      <td>5306</td>\n",
       "      <td>1</td>\n",
       "    </tr>\n",
       "    <tr>\n",
       "      <th>1</th>\n",
       "      <td>0</td>\n",
       "      <td>237000000</td>\n",
       "      <td>19995</td>\n",
       "      <td>en</td>\n",
       "      <td>2781505847</td>\n",
       "      <td>6075</td>\n",
       "      <td>1</td>\n",
       "    </tr>\n",
       "    <tr>\n",
       "      <th>2</th>\n",
       "      <td>0</td>\n",
       "      <td>220000000</td>\n",
       "      <td>24428</td>\n",
       "      <td>en</td>\n",
       "      <td>1518594910</td>\n",
       "      <td>6535</td>\n",
       "      <td>1</td>\n",
       "    </tr>\n",
       "    <tr>\n",
       "      <th>3</th>\n",
       "      <td>0</td>\n",
       "      <td>160000000</td>\n",
       "      <td>27205</td>\n",
       "      <td>en</td>\n",
       "      <td>825500000</td>\n",
       "      <td>6353</td>\n",
       "      <td>1</td>\n",
       "    </tr>\n",
       "    <tr>\n",
       "      <th>4</th>\n",
       "      <td>0</td>\n",
       "      <td>200000000</td>\n",
       "      <td>37724</td>\n",
       "      <td>en</td>\n",
       "      <td>1108694081</td>\n",
       "      <td>4334</td>\n",
       "      <td>1</td>\n",
       "    </tr>\n",
       "  </tbody>\n",
       "</table>\n",
       "</div>"
      ],
      "text/plain": [
       "   Adult     Budget     Id OriginalLanguage     Revenue  VoteCount  Sign\n",
       "0      0  185000000    155               en  1001921825       5306     1\n",
       "1      0  237000000  19995               en  2781505847       6075     1\n",
       "2      0  220000000  24428               en  1518594910       6535     1\n",
       "3      0  160000000  27205               en   825500000       6353     1\n",
       "4      0  200000000  37724               en  1108694081       4334     1"
      ]
     },
     "execution_count": 115,
     "metadata": {},
     "output_type": "execute_result"
    }
   ],
   "source": [
    "query = \"\"\"\n",
    "SELECT *\n",
    "FROM test.movies_collapsing\n",
    "LIMIT 5\n",
    "\"\"\"\n",
    "\n",
    "df = ch2pd.select(connection_url, query)\n",
    "df"
   ]
  },
  {
   "cell_type": "code",
   "execution_count": 116,
   "metadata": {},
   "outputs": [
    {
     "data": {
      "text/plain": [
       "10"
      ]
     },
     "execution_count": 116,
     "metadata": {},
     "output_type": "execute_result"
    }
   ],
   "source": [
    "import pickle\n",
    "from datetime import datetime\n",
    "\n",
    "with open(\"/home/makilins/Downloads/movies.p\",\"rb\") as tmdb_file:\n",
    "    data = pickle.load(tmdb_file)\n",
    "    movs = data[0:10]\n",
    "    json_docs = []\n",
    "    for mov in movs:\n",
    "        mov_short = {}\n",
    "        mov_short[\"Id\"] = mov[\"id\"]\n",
    "        mov_short[\"Adult\"] = mov[\"adult\"]\n",
    "        mov_short[\"OriginalLanguage\"] = mov[\"original_language\"]\n",
    "        mov_short[\"Budget\"] = mov[\"budget\"]\n",
    "        mov_short[\"Revenue\"] = mov[\"revenue\"]\n",
    "        mov_short[\"VoteCount\"] = mov[\"vote_count\"]\n",
    "        mov_short[\"Sign\"] = -1\n",
    "        json_docs.append(mov_short)\n",
    "        \n",
    "sum_insert = \"\"\"\n",
    "INSERT INTO test.movies_collapsing VALUES\n",
    "\"\"\"\n",
    "\n",
    "client.execute(sum_insert, json_docs)"
   ]
  },
  {
   "cell_type": "code",
   "execution_count": 118,
   "metadata": {},
   "outputs": [
    {
     "data": {
      "text/plain": [
       "10"
      ]
     },
     "execution_count": 118,
     "metadata": {},
     "output_type": "execute_result"
    }
   ],
   "source": [
    "import pickle\n",
    "from datetime import datetime\n",
    "\n",
    "with open(\"/home/makilins/Downloads/movies.p\",\"rb\") as tmdb_file:\n",
    "    data = pickle.load(tmdb_file)\n",
    "    movs = data[0:10]\n",
    "    json_docs = []\n",
    "    for mov in movs:\n",
    "        mov_short = {}\n",
    "        mov_short[\"Id\"] = mov[\"id\"]\n",
    "        mov_short[\"Adult\"] = mov[\"adult\"]\n",
    "        mov_short[\"OriginalLanguage\"] = mov[\"original_language\"]\n",
    "        mov_short[\"Budget\"] = mov[\"budget\"] + 1500\n",
    "        mov_short[\"Revenue\"] = mov[\"revenue\"] + 1500\n",
    "        mov_short[\"VoteCount\"] = mov[\"vote_count\"] + 15\n",
    "        mov_short[\"Sign\"] = 1\n",
    "        json_docs.append(mov_short)\n",
    "        \n",
    "sum_insert = \"\"\"\n",
    "INSERT INTO test.movies_collapsing VALUES\n",
    "\"\"\"\n",
    "\n",
    "client.execute(sum_insert, json_docs)"
   ]
  },
  {
   "cell_type": "code",
   "execution_count": 120,
   "metadata": {},
   "outputs": [
    {
     "name": "stdout",
     "output_type": "stream",
     "text": [
      "\n"
     ]
    },
    {
     "data": {
      "text/html": [
       "<div>\n",
       "<style>\n",
       "    .dataframe thead tr:only-child th {\n",
       "        text-align: right;\n",
       "    }\n",
       "\n",
       "    .dataframe thead th {\n",
       "        text-align: left;\n",
       "    }\n",
       "\n",
       "    .dataframe tbody tr th {\n",
       "        vertical-align: top;\n",
       "    }\n",
       "</style>\n",
       "<table border=\"1\" class=\"dataframe\">\n",
       "  <thead>\n",
       "    <tr style=\"text-align: right;\">\n",
       "      <th></th>\n",
       "      <th>Adult</th>\n",
       "      <th>Budget</th>\n",
       "      <th>Id</th>\n",
       "      <th>OriginalLanguage</th>\n",
       "      <th>Revenue</th>\n",
       "      <th>VoteCount</th>\n",
       "      <th>Sign</th>\n",
       "    </tr>\n",
       "  </thead>\n",
       "  <tbody>\n",
       "    <tr>\n",
       "      <th>0</th>\n",
       "      <td>0</td>\n",
       "      <td>185001500</td>\n",
       "      <td>155</td>\n",
       "      <td>en</td>\n",
       "      <td>1001923325</td>\n",
       "      <td>5321</td>\n",
       "      <td>1</td>\n",
       "    </tr>\n",
       "    <tr>\n",
       "      <th>1</th>\n",
       "      <td>0</td>\n",
       "      <td>185000000</td>\n",
       "      <td>155</td>\n",
       "      <td>en</td>\n",
       "      <td>1001921825</td>\n",
       "      <td>5306</td>\n",
       "      <td>-1</td>\n",
       "    </tr>\n",
       "    <tr>\n",
       "      <th>2</th>\n",
       "      <td>0</td>\n",
       "      <td>185000000</td>\n",
       "      <td>155</td>\n",
       "      <td>en</td>\n",
       "      <td>1001921825</td>\n",
       "      <td>5306</td>\n",
       "      <td>1</td>\n",
       "    </tr>\n",
       "  </tbody>\n",
       "</table>\n",
       "</div>"
      ],
      "text/plain": [
       "   Adult     Budget   Id OriginalLanguage     Revenue  VoteCount  Sign\n",
       "0      0  185001500  155               en  1001923325       5321     1\n",
       "1      0  185000000  155               en  1001921825       5306    -1\n",
       "2      0  185000000  155               en  1001921825       5306     1"
      ]
     },
     "execution_count": 120,
     "metadata": {},
     "output_type": "execute_result"
    }
   ],
   "source": [
    "query = \"\"\"\n",
    "SELECT *\n",
    "FROM test.movies_collapsing\n",
    "WHERE Id = 155\n",
    "LIMIT 5\n",
    "\"\"\"\n",
    "\n",
    "df = ch2pd.select(connection_url, query)\n",
    "df"
   ]
  },
  {
   "cell_type": "code",
   "execution_count": 121,
   "metadata": {},
   "outputs": [
    {
     "name": "stdout",
     "output_type": "stream",
     "text": [
      "\n"
     ]
    },
    {
     "data": {
      "text/html": [
       "<div>\n",
       "<style>\n",
       "    .dataframe thead tr:only-child th {\n",
       "        text-align: right;\n",
       "    }\n",
       "\n",
       "    .dataframe thead th {\n",
       "        text-align: left;\n",
       "    }\n",
       "\n",
       "    .dataframe tbody tr th {\n",
       "        vertical-align: top;\n",
       "    }\n",
       "</style>\n",
       "<table border=\"1\" class=\"dataframe\">\n",
       "  <thead>\n",
       "    <tr style=\"text-align: right;\">\n",
       "      <th></th>\n",
       "      <th>Adult</th>\n",
       "      <th>Id</th>\n",
       "      <th>Revenue</th>\n",
       "      <th>Budget</th>\n",
       "      <th>VoteCount</th>\n",
       "    </tr>\n",
       "  </thead>\n",
       "  <tbody>\n",
       "    <tr>\n",
       "      <th>0</th>\n",
       "      <td>0</td>\n",
       "      <td>155</td>\n",
       "      <td>1001923325</td>\n",
       "      <td>185001500</td>\n",
       "      <td>5321</td>\n",
       "    </tr>\n",
       "  </tbody>\n",
       "</table>\n",
       "</div>"
      ],
      "text/plain": [
       "   Adult   Id     Revenue     Budget  VoteCount\n",
       "0      0  155  1001923325  185001500       5321"
      ]
     },
     "execution_count": 121,
     "metadata": {},
     "output_type": "execute_result"
    }
   ],
   "source": [
    "query = \"\"\"\n",
    "SELECT \n",
    "    Adult,\n",
    "    Id,\n",
    "    sum(Sign*Revenue) as Revenue,\n",
    "    sum(Sign*Budget) as Budget,\n",
    "    sum(Sign*VoteCount) as VoteCount\n",
    "    \n",
    "FROM test.movies_collapsing\n",
    "WHERE Id = 155\n",
    "GROUP BY Adult, Id \n",
    "LIMIT 5\n",
    "\"\"\"\n",
    "\n",
    "df = ch2pd.select(connection_url, query)\n",
    "df"
   ]
  },
  {
   "cell_type": "code",
   "execution_count": 122,
   "metadata": {},
   "outputs": [
    {
     "data": {
      "text/plain": [
       "[]"
      ]
     },
     "execution_count": 122,
     "metadata": {},
     "output_type": "execute_result"
    }
   ],
   "source": [
    "client.execute(\"OPTIMIZE TABLE test.movies_collapsing FINAL\") # Принудительно схлопываем данные"
   ]
  },
  {
   "cell_type": "code",
   "execution_count": 123,
   "metadata": {},
   "outputs": [
    {
     "name": "stdout",
     "output_type": "stream",
     "text": [
      "\n"
     ]
    },
    {
     "data": {
      "text/html": [
       "<div>\n",
       "<style>\n",
       "    .dataframe thead tr:only-child th {\n",
       "        text-align: right;\n",
       "    }\n",
       "\n",
       "    .dataframe thead th {\n",
       "        text-align: left;\n",
       "    }\n",
       "\n",
       "    .dataframe tbody tr th {\n",
       "        vertical-align: top;\n",
       "    }\n",
       "</style>\n",
       "<table border=\"1\" class=\"dataframe\">\n",
       "  <thead>\n",
       "    <tr style=\"text-align: right;\">\n",
       "      <th></th>\n",
       "      <th>Adult</th>\n",
       "      <th>Budget</th>\n",
       "      <th>Id</th>\n",
       "      <th>OriginalLanguage</th>\n",
       "      <th>Revenue</th>\n",
       "      <th>VoteCount</th>\n",
       "      <th>Sign</th>\n",
       "    </tr>\n",
       "  </thead>\n",
       "  <tbody>\n",
       "    <tr>\n",
       "      <th>0</th>\n",
       "      <td>0</td>\n",
       "      <td>185001500</td>\n",
       "      <td>155</td>\n",
       "      <td>en</td>\n",
       "      <td>1001923325</td>\n",
       "      <td>5321</td>\n",
       "      <td>1</td>\n",
       "    </tr>\n",
       "  </tbody>\n",
       "</table>\n",
       "</div>"
      ],
      "text/plain": [
       "   Adult     Budget   Id OriginalLanguage     Revenue  VoteCount  Sign\n",
       "0      0  185001500  155               en  1001923325       5321     1"
      ]
     },
     "execution_count": 123,
     "metadata": {},
     "output_type": "execute_result"
    }
   ],
   "source": [
    "query = \"\"\"\n",
    "SELECT *\n",
    "FROM test.movies_collapsing\n",
    "WHERE Id = 155\n",
    "LIMIT 5\n",
    "\"\"\"\n",
    "\n",
    "df = ch2pd.select(connection_url, query)\n",
    "df"
   ]
  },
  {
   "cell_type": "code",
   "execution_count": null,
   "metadata": {
    "collapsed": true
   },
   "outputs": [],
   "source": []
  },
  {
   "cell_type": "code",
   "execution_count": null,
   "metadata": {
    "collapsed": true
   },
   "outputs": [],
   "source": []
  },
  {
   "cell_type": "code",
   "execution_count": null,
   "metadata": {
    "collapsed": true
   },
   "outputs": [],
   "source": []
  }
 ],
 "metadata": {
  "kernelspec": {
   "display_name": "Python 3",
   "language": "python",
   "name": "python3"
  },
  "language_info": {
   "codemirror_mode": {
    "name": "ipython",
    "version": 3
   },
   "file_extension": ".py",
   "mimetype": "text/x-python",
   "name": "python",
   "nbconvert_exporter": "python",
   "pygments_lexer": "ipython3",
   "version": "3.6.1"
  }
 },
 "nbformat": 4,
 "nbformat_minor": 2
}
